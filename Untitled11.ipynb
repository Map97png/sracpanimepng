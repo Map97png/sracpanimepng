{
  "nbformat": 4,
  "nbformat_minor": 0,
  "metadata": {
    "colab": {
      "provenance": [],
      "authorship_tag": "ABX9TyPt+VHT0+ae41S2k6fcl0qL",
      "include_colab_link": true
    },
    "kernelspec": {
      "name": "python3",
      "display_name": "Python 3"
    },
    "language_info": {
      "name": "python"
    }
  },
  "cells": [
    {
      "cell_type": "markdown",
      "metadata": {
        "id": "view-in-github",
        "colab_type": "text"
      },
      "source": [
        "<a href=\"https://colab.research.google.com/github/Map97png/sracpanimepng/blob/main/Untitled11.ipynb\" target=\"_parent\"><img src=\"https://colab.research.google.com/assets/colab-badge.svg\" alt=\"Open In Colab\"/></a>"
      ]
    },
    {
      "cell_type": "code",
      "execution_count": null,
      "metadata": {
        "id": "KZThf9p--VLG"
      },
      "outputs": [],
      "source": [
        "!git clone https://github.com/Map987/linovelib2epub --depth=1\n",
        "\n",
        "%cd /content/linovelib2epub\n",
        "\n",
        "!python -m venv venv\n",
        "!source /venv/bin/activate.fish # 我用的 fish\n",
        "!pip install -r requirement-dev.txt # 他们的 requirement.txt 很久没更新过了，直接用 dev\n",
        "!pip install -e . #\n",
        "\n",
        "!wget https://storage.googleapis.com/chrome-for-testing-public/129.0.6668.58/linux64/chrome-linux64.zip -N -P /tmp\n",
        "!unzip -o /tmp/chrome-linux64.zip -d /tmp/\n",
        "!rm -rf /tmp/chrome-linux64.zip\n",
        "!cp -rf /tmp/chrome-linux64 /usr/local/bin/chrome-linux64\n",
        "!rm -rf /tmp/chrome-linux64\n",
        "!sudo ln -s /usr/local/bin/chrome-linux64/chrome /usr/local/bin/google-chrome"
      ]
    },
    {
      "cell_type": "code",
      "source": [
        "from linovelib2epub import Linovelib2Epub, TargetSite\n",
        "\n",
        "import nest_asyncio\n",
        "nest_asyncio.apply() #避免 RuntimeError: asyncio.run() cannot be called from a running event loop.\n",
        "if __name__ == \"__main__\":\n",
        "    linovelib_epub = Linovelib2Epub(\n",
        "        book_id=3114,\n",
        "        divide_volume=True,\n",
        "        target_site=TargetSite.LINOVELIB_PC,\n",
        "        browser_path=\"/usr/local/bin/chrome-linux64\",\n",
        "        headless=True\n",
        "    )\n",
        "    linovelib_epub.run()#为么有run这个方法"
      ],
      "metadata": {
        "id": "swbMKS4r-4s9"
      },
      "execution_count": null,
      "outputs": []
    }
  ]
}