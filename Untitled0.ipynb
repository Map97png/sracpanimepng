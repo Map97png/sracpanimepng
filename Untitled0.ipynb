{
  "nbformat": 4,
  "nbformat_minor": 0,
  "metadata": {
    "colab": {
      "provenance": [],
      "authorship_tag": "ABX9TyOHGswZYuXKq6ipV6muWTuV",
      "include_colab_link": true
    },
    "kernelspec": {
      "name": "python3",
      "display_name": "Python 3"
    },
    "language_info": {
      "name": "python"
    }
  },
  "cells": [
    {
      "cell_type": "markdown",
      "metadata": {
        "id": "view-in-github",
        "colab_type": "text"
      },
      "source": [
        "<a href=\"https://colab.research.google.com/github/Map97png/sracpanimepng/blob/main/Untitled0.ipynb\" target=\"_parent\"><img src=\"https://colab.research.google.com/assets/colab-badge.svg\" alt=\"Open In Colab\"/></a>"
      ]
    },
    {
      "cell_type": "code",
      "execution_count": null,
      "metadata": {
        "id": "AMLNjIxZ4Nwr"
      },
      "outputs": [],
      "source": [
        "!git clone https://github.com/Map987/download-anime-mag-.git"
      ]
    },
    {
      "cell_type": "code",
      "source": [
        "from google.colab import drive\n",
        "drive.mount('/content/drive')"
      ],
      "metadata": {
        "id": "Y6FG_-J34boZ"
      },
      "execution_count": null,
      "outputs": []
    },
    {
      "cell_type": "code",
      "source": [
        "import os\n",
        "\n",
        "folders = [\"/content/sample_data/outputtxt\", \"/content/sample_data/outtxt\", \"/content/sample_data/imagebig/\"]\n",
        "for folder in folders:\n",
        "    os.makedirs(folder, exist_ok=True)"
      ],
      "metadata": {
        "id": "IhdnHQxv4YBW"
      },
      "execution_count": 3,
      "outputs": []
    },
    {
      "cell_type": "code",
      "source": [
        "import os\n",
        "import re\n",
        "import xml.etree.ElementTree as ET\n",
        "from typing import List\n",
        "\n",
        "def extract_links(xml_string: str) -> List[str]:\n",
        "    root = ET.fromstring(xml_string)\n",
        "    links = []\n",
        "    for url in root.findall('{http://www.sitemaps.org/schemas/sitemap/0.9}url'):\n",
        "        image_loc = url.find('{http://www.google.com/schemas/sitemap-image/1.1}image').find('{http://www.google.com/schemas/sitemap-image/1.1}loc').text\n",
        "        if image_loc:\n",
        "            links.append(image_loc)\n",
        "    return links"
      ],
      "metadata": {
        "id": "MCNkHReC4orR"
      },
      "execution_count": 4,
      "outputs": []
    },
    {
      "cell_type": "code",
      "source": [
        "def write_links_to_file(file_path: str, links: List[str]) -> None:\n",
        "    with open(file_path, 'w') as f:\n",
        "        for link in links:\n",
        "            f.write(link)"
      ],
      "metadata": {
        "id": "_9N6QNac4rxN"
      },
      "execution_count": 5,
      "outputs": []
    },
    {
      "cell_type": "code",
      "source": [
        "input_folder = '/content/download-anime-mag-/'\n",
        "output_folder = '/content/sample_data/outputtxt/'\n",
        "\n",
        "for file_name in os.listdir(input_folder):\n",
        "    if file_name.endswith('.xml'):\n",
        "        input_path = os.path.join(input_folder, file_name)\n",
        "        with open(input_path, 'r') as f:\n",
        "            xml_string = f.read()\n",
        "        links = extract_links(xml_string)\n",
        "        output_path = os.path.join(output_folder, file_name[:-4] + '.txt')\n",
        "        write_links_to_file(output_path, links)\n",
        "        print(f'{output_path} written successfully.\\n')"
      ],
      "metadata": {
        "id": "4vIBCHGO4voj"
      },
      "execution_count": null,
      "outputs": []
    },
    {
      "cell_type": "code",
      "source": [
        "import os\n",
        "\n",
        "input_folder_path = '/content/sample_data/outputtxt/'\n",
        "output_folder_path = '/content/sample_data/outtxt/'\n",
        "\n",
        "# get all .txt files in input folder\n",
        "files = [f for f in os.listdir(input_folder_path) if os.path.isfile(os.path.join(input_folder_path, f)) and f.endswith('.txt')]\n",
        "\n",
        "for file_name in files:\n",
        "    # open input file\n",
        "    input_file_path = os.path.join(input_folder_path, file_name)\n",
        "    with open(input_file_path, 'r') as input_file:\n",
        "        file_content = input_file.read()\n",
        "\n",
        "    # add newline before each https\n",
        "    file_content = file_content.replace('https://', 'https://')\n",
        "\n",
        "    # create output file\n",
        "    output_file_path = os.path.join(output_folder_path, file_name)\n",
        "    with open(output_file_path, 'w') as output_file:\n",
        "        output_file.write(file_content)"
      ],
      "metadata": {
        "id": "PduZW4YQ4zUq"
      },
      "execution_count": 7,
      "outputs": []
    },
    {
      "cell_type": "code",
      "source": [
        "import os\n",
        "\n",
        "outtxt_dir = \"/content/sample_data/outtxt\"\n",
        "data_dir = \"/content/sample_data/\"\n",
        "\n",
        "# 遍历outtxt_dir目录中的所有txt文件\n",
        "for filename in os.listdir(outtxt_dir):\n",
        "    if filename.endswith(\".txt\") and filename.startswith(\"image-sitemap-\"):\n",
        "        # 获取X值\n",
        "        x = filename.split(\"-\")[-1].split(\".\")[0]\n",
        "        \n",
        "        # 创建imageX文件夹\n",
        "        folder = os.path.join(data_dir, f\"image{x}\")\n",
        "        os.makedirs(folder, exist_ok=True)"
      ],
      "metadata": {
        "id": "66PtkiDb40ev"
      },
      "execution_count": 8,
      "outputs": []
    },
    {
      "cell_type": "code",
      "source": [
        "import requests\n",
        "import os\n",
        "from multiprocessing import Pool\n",
        "\n",
        "url_file_path = '/content/sample_data/outtxt/image-sitemap-10.txt'\n",
        "output_folder_path = '/content/sample_data/image10/'\n",
        "\n",
        "with open(url_file_path, 'r') as url_file:\n",
        "    file_content = url_file.read()\n",
        "\n",
        "    urls = file_content.split('https')\n",
        "    urls = ['https' + url for url in urls if url.endswith('.jpg') or url.endswith('.png')]\n",
        "\n",
        "count = 0\n",
        "\n",
        "def download_image(url):\n",
        "    global count\n",
        "    response = requests.get(url)\n",
        "    file_name = os.path.basename(url)\n",
        "    file_path = os.path.join(output_folder_path, file_name)\n",
        "\n",
        "    with open(file_path, 'wb') as file:\n",
        "        file.write(response.content)\n",
        "        count += 1\n",
        "        print(f\"File {count}: {file_name} downloaded successfully.\")\n",
        "\n",
        "if __name__ == '__main__':\n",
        "    with Pool() as pool:\n",
        "        pool.map(download_image, urls)\n",
        "\n",
        "print(f\"Downloaded {count} files.\")"
      ],
      "metadata": {
        "id": "KNBM6wBb47kH"
      },
      "execution_count": null,
      "outputs": []
    },
    {
      "cell_type": "code",
      "source": [
        "import requests\n",
        "import os\n",
        "from multiprocessing import Pool\n",
        "import zipfile\n",
        "import shutil\n",
        "\n",
        "# 从用户输入中获取文件路径和输出路径\n",
        "url_file_path = input(\"请输入图片 URL 文件的路径：\")\n",
        "output_folder_path = input(\"请输入图片保存的文件夹路径：\")\n",
        "destination_folder = input(\"请输入打包文件存放的文件夹路径：\")\n",
        "destination_drive_folder = input(\"请输入目标 Google Drive 文件夹的路径：\")\n",
        "\n",
        "def download(url):\n",
        "    response = requests.get(url)\n",
        "    file_name = os.path.basename(url)\n",
        "    file_path = os.path.join(output_folder_path, file_name)\n",
        "\n",
        "    with open(file_path, 'wb') as file:\n",
        "        file.write(response.content)\n",
        "        print(f\"File {file_name} downloaded successfully.\")\n",
        "\n",
        "if __name__ == '__main__':\n",
        "    with open(url_file_path, 'r') as url_file:\n",
        "        file_content = url_file.read()\n",
        "\n",
        "        urls = file_content.split('https')\n",
        "        urls = ['https' + url for url in urls if url.endswith('.jpg') or url.endswith('.png')]\n",
        "\n",
        "        count = len(urls)\n",
        "        pool = Pool(processes=64) # 可根据需要调整进程数\n",
        "\n",
        "        pool.map(download, urls)\n",
        "        pool.close()\n",
        "        pool.join()\n",
        "\n",
        "    print(f\"Downloaded {count} files.\")\n",
        "\n",
        "    # 指定原始文件夹路径和目标文件夹路径\n",
        "    source_folder = output_folder_path\n",
        "    destination_folder = os.path.join(destination_folder, '')\n",
        "\n",
        "    # 指定打包文件名\n",
        "    zip_filename = os.path.basename(output_folder_path) + '.zip'\n",
        "    zip_filepath = os.path.join(destination_folder, zip_filename)\n",
        "\n",
        "    # 创建ZipFile对象并添加文件\n",
        "    with zipfile.ZipFile(zip_filepath, 'w') as myzip:\n",
        "        for filename in os.listdir(source_folder):\n",
        "            file_path = os.path.join(source_folder, filename)\n",
        "            myzip.write(file_path, filename)\n",
        "\n",
        "    # 打包完成后输出信息\n",
        "    print(\"文件已成功打包到\", zip_filepath)\n",
        "\n",
        "    # 指定原始zip文件路径和目标文件夹路径\n",
        "    source_file = zip_filepath\n",
        "    destination_folder = os.path.join(destination_drive_folder, '')\n",
        "\n",
        "    # 复制zip文件到目标文件夹中\n",
        "    shutil.copy(source_file, destination_folder)\n",
        "    print(\"文件已成功复制到 Google Drive 文件夹。\")"
      ],
      "metadata": {
        "id": "rV06bfTN7sGL"
      },
      "execution_count": null,
      "outputs": []
    }
  ]
}